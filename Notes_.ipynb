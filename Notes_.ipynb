{
  "nbformat": 4,
  "nbformat_minor": 0,
  "metadata": {
    "colab": {
      "provenance": [],
      "authorship_tag": "ABX9TyN9iQD99Vos1LHr6i0yTeJm",
      "include_colab_link": true
    },
    "kernelspec": {
      "name": "python3",
      "display_name": "Python 3"
    },
    "language_info": {
      "name": "python"
    }
  },
  "cells": [
    {
      "cell_type": "markdown",
      "metadata": {
        "id": "view-in-github",
        "colab_type": "text"
      },
      "source": [
        "<a href=\"https://colab.research.google.com/github/Nawin03-DS/ML---Notebook/blob/main/Notes_.ipynb\" target=\"_parent\"><img src=\"https://colab.research.google.com/assets/colab-badge.svg\" alt=\"Open In Colab\"/></a>"
      ]
    },
    {
      "cell_type": "markdown",
      "source": [
        "String Manipulation (Anagrams)"
      ],
      "metadata": {
        "id": "Ti9lxQiUxM37"
      }
    },
    {
      "cell_type": "code",
      "execution_count": null,
      "metadata": {
        "colab": {
          "base_uri": "https://localhost:8080/"
        },
        "id": "wDpR1OJkxJbI",
        "outputId": "a4425de3-e84a-4664-f05d-befd2cf71a04"
      },
      "outputs": [
        {
          "output_type": "stream",
          "name": "stdout",
          "text": [
            "True\n",
            "False\n"
          ]
        }
      ],
      "source": [
        "from collections import Counter\n",
        "\n",
        "def is_anagram(s1: str, s2: str) -> bool:\n",
        "    return Counter(s1) == Counter(s2)\n",
        "\n",
        "# Test\n",
        "print(is_anagram(\"listen\", \"silent\"))  # True\n",
        "print(is_anagram(\"hello\", \"world\"))    # False"
      ]
    },
    {
      "cell_type": "markdown",
      "source": [
        "Data Processing (Clean Ages)"
      ],
      "metadata": {
        "id": "BKix97zQxdaU"
      }
    },
    {
      "cell_type": "code",
      "source": [
        "import statistics\n",
        "\n",
        "def clean_ages(ages: list) -> list:\n",
        "    valid_ages = [a for a in ages if a is not None]\n",
        "    median_age = statistics.median(valid_ages)\n",
        "    cleaned = []\n",
        "    for age in ages:\n",
        "        if age is None:\n",
        "            age = median_age\n",
        "        age = min(max(age, 0), 100)  # clip\n",
        "        cleaned.append(age)\n",
        "    return cleaned\n",
        "\n",
        "# Test\n",
        "print(clean_ages([25, None, 150, 30, -5]))  # [25, 30, 100, 30, 0]"
      ],
      "metadata": {
        "colab": {
          "base_uri": "https://localhost:8080/"
        },
        "id": "7q9ci0iNxeHc",
        "outputId": "3ac2e174-5f80-479f-ad37-1f934728b67c"
      },
      "execution_count": null,
      "outputs": [
        {
          "output_type": "stream",
          "name": "stdout",
          "text": [
            "[25, 27.5, 100, 30, 0]\n"
          ]
        }
      ]
    },
    {
      "cell_type": "markdown",
      "source": [
        "Machine Learning Math (Sigmoid & Cross-Entropy)"
      ],
      "metadata": {
        "id": "8O8SOGGSx2Dk"
      }
    },
    {
      "cell_type": "code",
      "source": [
        "import math\n",
        "\n",
        "def sigmoid(x):\n",
        "    return 1 / (1 + math.exp(-x))\n",
        "\n",
        "def cross_entropy(y_true, y_pred):\n",
        "    n = len(y_true)\n",
        "    loss = 0\n",
        "    for yt, yp in zip(y_true, y_pred):\n",
        "        yp = max(min(yp, 1-1e-9), 1e-9)  # avoid log(0)\n",
        "        loss += yt*math.log(yp) + (1-yt)*math.log(1-yp)\n",
        "    return -loss / n\n",
        "\n",
        "# Test\n",
        "print(sigmoid(0))                       # 0.5\n",
        "print(cross_entropy([1,0,1],[0.9,0.1,0.8]))  # ~0.164"
      ],
      "metadata": {
        "colab": {
          "base_uri": "https://localhost:8080/"
        },
        "id": "MwyynGy9x20R",
        "outputId": "ca917392-2a21-41a8-b919-1da40c98b550"
      },
      "execution_count": null,
      "outputs": [
        {
          "output_type": "stream",
          "name": "stdout",
          "text": [
            "0.5\n",
            "0.14462152754328741\n"
          ]
        }
      ]
    },
    {
      "cell_type": "markdown",
      "source": [
        "Precision, Recall, F1"
      ],
      "metadata": {
        "id": "DtJGdICFyPb0"
      }
    },
    {
      "cell_type": "code",
      "source": [
        "def precision_recall_f1(y_true, y_pred):\n",
        "    tp = sum((yt==1 and yp==1) for yt, yp in zip(y_true, y_pred))\n",
        "    fp = sum((yt==0 and yp==1) for yt, yp in zip(y_true, y_pred))\n",
        "    fn = sum((yt==1 and yp==0) for yt, yp in zip(y_true, y_pred))\n",
        "\n",
        "    precision = tp / (tp + fp) if (tp+fp) > 0 else 0\n",
        "    recall = tp / (tp + fn) if (tp+fn) > 0 else 0\n",
        "    f1 = 2*precision*recall / (precision+recall) if (precision+recall) > 0 else 0\n",
        "    return precision, recall, f1\n",
        "\n",
        "# Test\n",
        "print(precision_recall_f1([1,0,1,1],[1,0,0,1]))  # (1.0, 0.666..., 0.8)"
      ],
      "metadata": {
        "colab": {
          "base_uri": "https://localhost:8080/"
        },
        "id": "i6nQ79HXyQ3E",
        "outputId": "66eba409-1b14-4f52-ff12-33f60bb1ec93"
      },
      "execution_count": null,
      "outputs": [
        {
          "output_type": "stream",
          "name": "stdout",
          "text": [
            "(1.0, 0.6666666666666666, 0.8)\n"
          ]
        }
      ]
    },
    {
      "cell_type": "markdown",
      "source": [
        "Linear Regression (Gradient Descent)"
      ],
      "metadata": {
        "id": "-dYdx71Hyh59"
      }
    },
    {
      "cell_type": "code",
      "source": [
        "def train_linear_regression(x, y, lr=0.01, n_iters=1000):\n",
        "    m, b = 0.0, 0.0\n",
        "    n = len(x)\n",
        "\n",
        "    for _ in range(n_iters):\n",
        "        y_pred = [m*xi + b for xi in x]\n",
        "        # gradients\n",
        "        dm = (-2/n) * sum((yi - ypi) * xi for xi, yi, ypi in zip(x, y, y_pred))\n",
        "        db = (-2/n) * sum((yi - ypi) for yi, ypi in zip(y, y_pred))\n",
        "        # update\n",
        "        m -= lr * dm\n",
        "        b -= lr * db\n",
        "    return m, b\n",
        "\n",
        "# Test\n",
        "x = [1,2,3,4,5]\n",
        "y = [2,4,6,8,10]  # y = 2x\n",
        "m, b = train_linear_regression(x, y, lr=0.01, n_iters=1000)\n",
        "print(m, b)  # should be close to 2, 0"
      ],
      "metadata": {
        "colab": {
          "base_uri": "https://localhost:8080/"
        },
        "id": "927dbQcPyirA",
        "outputId": "05c96afa-b99a-4798-b15d-ff9a5f07c694"
      },
      "execution_count": null,
      "outputs": [
        {
          "output_type": "stream",
          "name": "stdout",
          "text": [
            "1.9951803506719779 0.017400463340610635\n"
          ]
        }
      ]
    },
    {
      "cell_type": "code",
      "source": [
        "#creating a class\n",
        "class program:\n",
        "  b=15       #class attributes\n",
        "\n",
        "#creating an object\n",
        "a=program()\n",
        "print(a.b)"
      ],
      "metadata": {
        "colab": {
          "base_uri": "https://localhost:8080/"
        },
        "id": "jn8Asudz0zUC",
        "outputId": "757f3f07-b9cc-491d-a60c-64f87cc556e7"
      },
      "execution_count": null,
      "outputs": [
        {
          "output_type": "stream",
          "name": "stdout",
          "text": [
            "15\n"
          ]
        }
      ]
    },
    {
      "cell_type": "code",
      "source": [
        "class car:\n",
        "  #class variables\n",
        "  wheels = 4\n",
        "\n",
        "  def __init__(self,brand,color):\n",
        "\n",
        "    #instance variables\n",
        "    self.brand = brand\n",
        "    self.color = color\n",
        "\n",
        "# objects\n",
        "car1 = car(\"toyota\",\"red\")\n",
        "car2 = car (\"honda\", \"blue\")\n",
        "\n",
        "#accessing  variables\n",
        "print(car1.brand, car1.color, car1.wheels)\n",
        "print(car2.brand, car2.color, car2.wheels)\n",
        "\n",
        "#changing instance variable (affects only car1)\n",
        "car1.color = \"green\"\n",
        "\n",
        "#changing class variable (affects all objects)\n",
        "car.wheels = 6\n",
        "\n",
        "print(car1.brand, car1.color, car1.wheels)\n",
        "print(car2.brand, car2.color, car2.wheels)"
      ],
      "metadata": {
        "colab": {
          "base_uri": "https://localhost:8080/"
        },
        "id": "XOIRbCKC1TWH",
        "outputId": "3530f347-50d4-49d4-dd7b-a59d910ee151"
      },
      "execution_count": null,
      "outputs": [
        {
          "output_type": "stream",
          "name": "stdout",
          "text": [
            "toyota red 4\n",
            "honda blue 4\n",
            "toyota green 6\n",
            "honda blue 6\n"
          ]
        }
      ]
    },
    {
      "cell_type": "code",
      "source": [
        "class program():\n",
        "  shop=\"apple\"  #class attributes\n",
        "  def computer(self): #here this function is called as a method\n",
        "      self.model=\"m4\" #self is argument\n",
        "      self.ram=32\n",
        "\n",
        "pro=program()\n",
        "pro.computer() #here we called the method\n",
        "print(pro.shop, pro.model, pro.ram)"
      ],
      "metadata": {
        "id": "qU7aWzTR3ouJ"
      },
      "execution_count": null,
      "outputs": []
    },
    {
      "cell_type": "code",
      "source": [],
      "metadata": {
        "id": "t-unhoVOrJJo"
      },
      "execution_count": null,
      "outputs": []
    }
  ]
}